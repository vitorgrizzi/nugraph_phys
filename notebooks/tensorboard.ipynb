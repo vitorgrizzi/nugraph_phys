{
 "cells": [
  {
   "cell_type": "code",
   "execution_count": null,
   "id": "1661b6b3-3993-429d-b267-c4af5f2e4414",
   "metadata": {},
   "outputs": [],
   "source": [
    "%load_ext tensorboard"
   ]
  },
  {
   "cell_type": "markdown",
   "id": "73b6f998-2241-45a6-8cc4-824a0085e585",
   "metadata": {},
   "source": [
    "### Running tensorboard\n",
    "\n",
    "In order to run tensorboard to visualise logging metrics, you need to replace `PORT` below with a unique integer corresponding to an open port, and also replace `LOGDIR` with the absolute path of a directory where your training logs are being written."
   ]
  },
  {
   "cell_type": "code",
   "execution_count": null,
   "id": "9c62de8e-bfd2-4d6f-81e0-6f0ea066c7a9",
   "metadata": {},
   "outputs": [],
   "source": [
    "%tensorboard --logdir LOGDIR --port PORT --bind_all --samples_per_plugin 'images=200'"
   ]
  },
  {
   "cell_type": "code",
   "execution_count": null,
   "id": "bec32da6-d596-4c15-9c1c-5377892dc442",
   "metadata": {},
   "outputs": [],
   "source": []
  }
 ],
 "metadata": {
  "kernelspec": {
   "display_name": "Python 3 (ipykernel)",
   "language": "python",
   "name": "python3"
  },
  "language_info": {
   "codemirror_mode": {
    "name": "ipython",
    "version": 3
   },
   "file_extension": ".py",
   "mimetype": "text/x-python",
   "name": "python",
   "nbconvert_exporter": "python",
   "pygments_lexer": "ipython3",
   "version": "3.10.10"
  }
 },
 "nbformat": 4,
 "nbformat_minor": 5
}
